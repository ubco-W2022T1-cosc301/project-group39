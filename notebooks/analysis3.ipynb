{
 "cells": [
  {
   "cell_type": "markdown",
   "metadata": {},
   "source": [
    "# Luke"
   ]
  },
  {
   "cell_type": "code",
   "execution_count": null,
   "metadata": {},
   "outputs": [
    {
     "name": "stdout",
     "output_type": "stream",
     "text": [
      "      incident_id    incident_date         state  city_or_county  \\\n",
      "0         2015849      May 26 2021      Illinois         Chicago   \n",
      "1         2015730      May 26 2021    California        San Jose   \n",
      "2         2014343      May 24 2021      Michigan         Inkster   \n",
      "3         2014381      May 24 2021          Ohio  West Jefferson   \n",
      "4         2012971      May 23 2021      Illinois         Chicago   \n",
      "...           ...              ...           ...             ...   \n",
      "2925        95550  January 12 2014       Alabama      Huntsville   \n",
      "2926        95146  January 11 2014   Mississippi         Jackson   \n",
      "2927        94514   January 5 2014  Pennsylvania            Erie   \n",
      "2928        92704   January 3 2014      New York          Queens   \n",
      "2929        92194   January 1 2014      Virginia         Norfolk   \n",
      "\n",
      "                                            address  killed  injured  \n",
      "0                     7200 block of S Princeton Ave       0        4  \n",
      "1                                 101 W Younger Ave      10        0  \n",
      "2                        27000 block of Rosewood St       2        2  \n",
      "3                                    127 Jackson St       4        0  \n",
      "4                                    3344 W Ohio St       0        4  \n",
      "...                                             ...     ...      ...  \n",
      "2925                               University Drive       0        5  \n",
      "2926                         3430 W. Capitol Street       0        4  \n",
      "2927                                  829 Parade St       1        3  \n",
      "2928             Farmers Boulevard and 133rd Avenue       1        3  \n",
      "2929  Rockingham Street and Berkley Avenue Extended       2        2  \n",
      "\n",
      "[2930 rows x 7 columns]\n"
     ]
    }
   ],
   "source": [
    "import pandas as pd\n",
    "df = pd.read_csv(\"../data/raw/US_Gun_Violence_Data.csv\")"
   ]
  },
  {
   "cell_type": "code",
   "execution_count": null,
   "metadata": {},
   "outputs": [],
   "source": [
    "df.plot(x='incident_date', y=['killed','injured'])"
   ]
  },
  {
   "cell_type": "markdown",
   "metadata": {},
   "source": [
    "Looking at a plot of killed and injured over incident_date shows multiple outliers with killed having a max of 59 and injured haveing a max of 441. These will have to be looked at and possibly removed. incident_date may also need to be simplified and split into years or months."
   ]
  },
  {
   "cell_type": "code",
   "execution_count": null,
   "metadata": {},
   "outputs": [],
   "source": [
    "df.plot(kind='scatter', x='state', y='killed')"
   ]
  },
  {
   "cell_type": "code",
   "execution_count": null,
   "metadata": {},
   "outputs": [],
   "source": [
    "import pandas as pd\n",
    "df = pd.read_csv(\"../data/raw/US_Gun_Violence_Data.csv\")\n",
    "\n",
    "df.nunique(axis=0)\n",
    "df.describe().apply(lambda s: s.apply(lambda x: format(x, 'f')))\n",
    "\n",
    "\n",
    "def clean_month(row):\n",
    "    \n",
    "    months = ['January','February','March','April','May','June','July','August','September','October','November','December']\n",
    "    month = [m for m in months if(m in row.incident_date)]\n",
    "    return month[0]\n",
    "    # Clean dataframe\n",
    "    \n",
    "def clean_year(row):\n",
    "    \n",
    "    years = ['2014','2015','2016','2017','2018','2019','2020','2021','2022'] \n",
    "    year = [y for y in years if(y in row.incident_date)]\n",
    "    return int(year[0])\n",
    "    # Clean dataframe\n",
    "   \n",
    "    \n",
    "def clean_df(playlist):\n",
    "    df_cleaned = df.copy()\n",
    "    \n",
    "    #split incident_date into two new columns named 'month' and 'year'\n",
    "    #month column for more general info and for possible research question on violence per month\n",
    "    #year column required for possible questions and to remove incomplete years\n",
    "    df_cleaned['month'] = df_cleaned.apply(lambda row: clean_month(row), axis=1)\n",
    "    df_cleaned['year'] = df_cleaned.apply(lambda row: clean_year(row), axis=1)\n",
    "    df_cleaned = df_cleaned.drop(['incident_id','address','city_or_county','incident_date'], axis=1)\n",
    "    \n",
    "    #remove outliers\n",
    "    df_cleaned = df_cleaned[df_cleaned['killed'] < 50]\n",
    "    df_cleaned = df_cleaned[df_cleaned['injured'] < 50]\n",
    "    df_cleaned = df_cleaned[df_cleaned['year'] < 2021]\n",
    "\n",
    "    #rearrange columns\n",
    "    df_cleaned = df_cleaned[['year','month','state','killed','injured']]\n",
    "    return df_cleaned# Get df with reclassfied 'condition' column\n",
    "\n",
    "df_cleaned = clean_df(df)\n"
   ]
  },
  {
   "cell_type": "markdown",
   "metadata": {},
   "source": [
    "## Research question/interests\n",
    "\n",
    "Briefly describe your research question or interests here."
   ]
  }
 ],
 "metadata": {
  "kernelspec": {
   "display_name": "Python 3",
   "language": "python",
   "name": "python3"
  },
  "language_info": {
   "codemirror_mode": {
    "name": "ipython",
    "version": 3
   },
   "file_extension": ".py",
   "mimetype": "text/x-python",
   "name": "python",
   "nbconvert_exporter": "python",
   "pygments_lexer": "ipython3",
   "version": "3.9.12"
  }
 },
 "nbformat": 4,
 "nbformat_minor": 4
}
