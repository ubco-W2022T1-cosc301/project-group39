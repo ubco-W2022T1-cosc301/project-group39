{
 "cells": [
  {
   "cell_type": "markdown",
   "metadata": {},
   "source": [
    "# Rhys"
   ]
  },
  {
   "cell_type": "code",
   "execution_count": 2,
   "metadata": {},
   "outputs": [
    {
     "name": "stdout",
     "output_type": "stream",
     "text": [
      "      incident_id    incident_date         state  city_or_county  \\\n",
      "0         2015849      May 26 2021      Illinois         Chicago   \n",
      "1         2015730      May 26 2021    California        San Jose   \n",
      "2         2014343      May 24 2021      Michigan         Inkster   \n",
      "3         2014381      May 24 2021          Ohio  West Jefferson   \n",
      "4         2012971      May 23 2021      Illinois         Chicago   \n",
      "...           ...              ...           ...             ...   \n",
      "2925        95550  January 12 2014       Alabama      Huntsville   \n",
      "2926        95146  January 11 2014   Mississippi         Jackson   \n",
      "2927        94514   January 5 2014  Pennsylvania            Erie   \n",
      "2928        92704   January 3 2014      New York          Queens   \n",
      "2929        92194   January 1 2014      Virginia         Norfolk   \n",
      "\n",
      "                                            address  killed  injured  \n",
      "0                     7200 block of S Princeton Ave       0        4  \n",
      "1                                 101 W Younger Ave      10        0  \n",
      "2                        27000 block of Rosewood St       2        2  \n",
      "3                                    127 Jackson St       4        0  \n",
      "4                                    3344 W Ohio St       0        4  \n",
      "...                                             ...     ...      ...  \n",
      "2925                               University Drive       0        5  \n",
      "2926                         3430 W. Capitol Street       0        4  \n",
      "2927                                  829 Parade St       1        3  \n",
      "2928             Farmers Boulevard and 133rd Avenue       1        3  \n",
      "2929  Rockingham Street and Berkley Avenue Extended       2        2  \n",
      "\n",
      "[2930 rows x 7 columns]\n"
     ]
    }
   ],
   "source": [
    "import pandas as pd\n",
    "\n",
    "df = pd.read_csv(\"C:/Users/grhys/cosc301/project-group39/US_Gun_Violence_Data.csv\")\n",
    "print(df)"
   ]
  },
  {
   "cell_type": "markdown",
   "metadata": {},
   "source": [
    "## Research question/interests\n",
    "\n",
    "Briefly describe your research question or interests here."
   ]
  }
 ],
 "metadata": {
  "kernelspec": {
   "display_name": "Python 3.9.12 ('base')",
   "language": "python",
   "name": "python3"
  },
  "language_info": {
   "codemirror_mode": {
    "name": "ipython",
    "version": 3
   },
   "file_extension": ".py",
   "mimetype": "text/x-python",
   "name": "python",
   "nbconvert_exporter": "python",
   "pygments_lexer": "ipython3",
   "version": "3.9.12"
  },
  "orig_nbformat": 4,
  "vscode": {
   "interpreter": {
    "hash": "401d80a7732a62f8860b0509359edaaf19ea78615b5bf395f0da2b3511f5fc9a"
   }
  }
 },
 "nbformat": 4,
 "nbformat_minor": 2
}
