{
 "cells": [
  {
   "cell_type": "code",
   "execution_count": 1,
   "metadata": {},
   "outputs": [],
   "source": [
    "import pandas as pd\n",
    "df = pd.read_csv(\"../data/raw/US_Gun_Violence_Data.csv\")\n",
    "df_cleaned = (\n",
    "    df.copy().drop(['incident_id','address'], axis=1)\n",
    "    .dropna(axis = 0)\n",
    "    .rename(columns={\"city_or_county\":\"City/County\",\"incident_date\":\"Incident Date\",\"state\":\"State\",\"killed\":\"Killed\",\"injured\":\"Injured\"})\n",
    "    .describe().apply(lambda s: s.apply(lambda x: format(x, 'f')))\n",
    "    )\n"
   ]
  }
 ],
 "metadata": {
  "kernelspec": {
   "display_name": "Python 3.9.12 ('base')",
   "language": "python",
   "name": "python3"
  },
  "language_info": {
   "codemirror_mode": {
    "name": "ipython",
    "version": 3
   },
   "file_extension": ".py",
   "mimetype": "text/x-python",
   "name": "python",
   "nbconvert_exporter": "python",
   "pygments_lexer": "ipython3",
   "version": "3.9.12"
  },
  "orig_nbformat": 4,
  "vscode": {
   "interpreter": {
    "hash": "401d80a7732a62f8860b0509359edaaf19ea78615b5bf395f0da2b3511f5fc9a"
   }
  }
 },
 "nbformat": 4,
 "nbformat_minor": 2
}
