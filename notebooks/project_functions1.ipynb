{
 "cells": [
  {
   "cell_type": "code",
   "execution_count": 14,
   "metadata": {},
   "outputs": [
    {
     "name": "stdout",
     "output_type": "stream",
     "text": [
      "        incident_date         State     City/County  Killed  Injured\n",
      "0         May 26 2021      Illinois         Chicago       0        4\n",
      "1         May 26 2021    California        San Jose      10        0\n",
      "2         May 24 2021      Michigan         Inkster       2        2\n",
      "3         May 24 2021          Ohio  West Jefferson       4        0\n",
      "4         May 23 2021      Illinois         Chicago       0        4\n",
      "...               ...           ...             ...     ...      ...\n",
      "2925  January 12 2014       Alabama      Huntsville       0        5\n",
      "2926  January 11 2014   Mississippi         Jackson       0        4\n",
      "2927   January 5 2014  Pennsylvania            Erie       1        3\n",
      "2928   January 3 2014      New York          Queens       1        3\n",
      "2929   January 1 2014      Virginia         Norfolk       2        2\n",
      "\n",
      "[2930 rows x 5 columns]\n"
     ]
    }
   ],
   "source": [
    "import pandas as pd\n",
    "\n",
    "def load_and_process(csvPath):\n",
    "    df = (\n",
    "         pd.read_csv(csvPath)\n",
    "        .drop(['incident_id','address'], axis=1)\n",
    "        .dropna(axis = 0)\n",
    "        .rename(columns={\"city_or_county\":\"City/County\",\"state\":\"State\",\"killed\":\"Killed\",\"injured\":\"Injured\"})\n",
    "    )\n",
    "    df1 = (\n",
    "        df\n",
    "        .apply(lambda row: clean_month(row), axis=1)\n",
    "        .apply(lambda row: clean_year(row), axis=1)\n",
    "        .assign(Total=lambda x: x['Killed']+x['Injured'])\n",
    "    )\n",
    "    df2 = (\n",
    "        df1\n",
    "        .loc[lambda x: x['Killed'] < 15]\n",
    "        .loc[lambda x: x['Injured'] < 20]\n",
    "        .loc[lambda x: x['Year'] < 2021]\n",
    "    )\n",
    "    df3 = (\n",
    "        df2\n",
    "        ['Year','Month','State','City/County','Killed','Injured','Total']\n",
    "    )\n",
    "    return df3\n",
    "def clean_month(row):\n",
    "    \n",
    "    months = ['January','February','March','April','May','June','July','August','September','October','November','December']\n",
    "    month = [m for m in months if(m in row.incident_date)]\n",
    "    return month[0]\n",
    "    \n",
    "def clean_year(row):\n",
    "    \n",
    "    years = ['2014','2015','2016','2017','2018','2019','2020','2021','2022'] \n",
    "    year = [y for y in years if(y in row.incident_date)]\n",
    "    return int(year[0])\n",
    "\n",
    "df_cleaned = load_and_process(\"../data/raw/US_Gun_Violence_Data.csv\")\n",
    "print(df_cleaned)\n",
    "\n"
   ]
  }
 ],
 "metadata": {
  "kernelspec": {
   "display_name": "Python 3.9.12 ('base')",
   "language": "python",
   "name": "python3"
  },
  "language_info": {
   "codemirror_mode": {
    "name": "ipython",
    "version": 3
   },
   "file_extension": ".py",
   "mimetype": "text/x-python",
   "name": "python",
   "nbconvert_exporter": "python",
   "pygments_lexer": "ipython3",
   "version": "3.9.12"
  },
  "orig_nbformat": 4,
  "vscode": {
   "interpreter": {
    "hash": "401d80a7732a62f8860b0509359edaaf19ea78615b5bf395f0da2b3511f5fc9a"
   }
  }
 },
 "nbformat": 4,
 "nbformat_minor": 2
}
