{
 "cells": [
  {
   "cell_type": "code",
   "execution_count": 15,
   "metadata": {},
   "outputs": [
    {
     "name": "stdout",
     "output_type": "stream",
     "text": [
      "      Year     Month          State   City/County  Killed  Injured  Total\n",
      "232   2020  December        Indiana  Indianapolis       1        3      4\n",
      "233   2020  December         Oregon  Happy Valley       0        4      4\n",
      "234   2020  December       Illinois      Rockford       3        3      6\n",
      "235   2020  December        Florida         Tampa       2        2      4\n",
      "236   2020  December  Massachusetts          Lynn       1        5      6\n",
      "...    ...       ...            ...           ...     ...      ...    ...\n",
      "2925  2014   January        Alabama    Huntsville       0        5      5\n",
      "2926  2014   January    Mississippi       Jackson       0        4      4\n",
      "2927  2014   January   Pennsylvania          Erie       1        3      4\n",
      "2928  2014   January       New York        Queens       1        3      4\n",
      "2929  2014   January       Virginia       Norfolk       2        2      4\n",
      "\n",
      "[2689 rows x 7 columns]\n"
     ]
    }
   ],
   "source": [
    "import pandas as pd\n",
    "\n",
    "def load_and_process(csvPath):\n",
    "    df = (\n",
    "         pd.read_csv(csvPath)\n",
    "        .drop(['incident_id','address'], axis=1)\n",
    "        .dropna(axis = 0)\n",
    "        .rename(columns={\"city_or_county\":\"City/County\",\"state\":\"State\",\"killed\":\"Killed\",\"injured\":\"Injured\"})     \n",
    "    ) \n",
    "    df1 = (\n",
    "        df\n",
    "        .assign(Total= df.Killed+ df.Injured)\n",
    "        [(df.Killed < 15) & (df.Injured < 20)]\n",
    "        .assign(Month=lambda x : x.incident_date.str.split().str[0])\n",
    "        .assign(Year=lambda x : x.incident_date.str.split().str[2])\n",
    "        \n",
    "    )  \n",
    "    df2 = (\n",
    "        df1\n",
    "        .drop(['incident_date'], axis=1)\n",
    "        .astype({'Year': 'int64'})\n",
    "        .loc[lambda x: x['Year'] < 2021]\n",
    "        [['Year','Month','State','City/County','Killed','Injured','Total']]\n",
    "    )\n",
    "    return df2\n",
    "def clean_month(row):\n",
    "    \n",
    "    months = ['January','February','March','April','May','June','July','August','September','October','November','December']\n",
    "    month = [m for m in months if(m in row.incident_date)]\n",
    "    return month[0]\n",
    "    \n",
    "def clean_year(row):\n",
    "    \n",
    "    years = ['2014','2015','2016','2017','2018','2019','2020','2021','2022'] \n",
    "    year = [y for y in years if(y in row.incident_date)]\n",
    "    return int(year[0])\n",
    "\n",
    "df_cleaned = load_and_process(\"../data/raw/US_Gun_Violence_Data.csv\")\n",
    "print(df_cleaned)\n",
    "\n"
   ]
  }
 ],
 "metadata": {
  "kernelspec": {
   "display_name": "Python 3.9.12 ('base')",
   "language": "python",
   "name": "python3"
  },
  "language_info": {
   "codemirror_mode": {
    "name": "ipython",
    "version": 3
   },
   "file_extension": ".py",
   "mimetype": "text/x-python",
   "name": "python",
   "nbconvert_exporter": "python",
   "pygments_lexer": "ipython3",
   "version": "3.9.12"
  },
  "orig_nbformat": 4,
  "vscode": {
   "interpreter": {
    "hash": "401d80a7732a62f8860b0509359edaaf19ea78615b5bf395f0da2b3511f5fc9a"
   }
  }
 },
 "nbformat": 4,
 "nbformat_minor": 2
}
